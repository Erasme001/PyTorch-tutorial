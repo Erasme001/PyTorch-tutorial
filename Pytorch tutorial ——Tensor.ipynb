{
 "cells": [
  {
   "cell_type": "markdown",
   "metadata": {},
   "source": [
    "## 什么是PyTorch\n",
    "PyTorch是基于Python的科学计算类库，主要有以下两个方面的应用：\n",
    "\n",
    "1、作为Numpy的替代者，充分利用GPU的计算能力。\n",
    "\n",
    "2、提供一个灵活、快速的深度学习平台。"
   ]
  },
  {
   "cell_type": "markdown",
   "metadata": {},
   "source": [
    "### 使用conda安装，不支持python2.7,cudanone就是CPU版本的\n",
    "|版本|命令|\n",
    "|-|-|\n",
    "|conda,cuda8,python3.5|conda install pytorch -c pytorch|\n",
    "|conda,cuda9.0,python3.5|conda install pytorch cuda90 -c pytorch|\n",
    "|conda,cuda9.1,python3.5|conda install pytorch cuda91|\n",
    "|conda,cudanone,python3.5|conda install pytorch-cpu -c pytorch|\n",
    "|conda,cuda8,python3.6|conda install pytorch -c pytorch|\n",
    "|conda,cuda9.0,python3.6|conda install pytorch cuda90 -c pytorch|\n",
    "|conda,cuda9.1,python3.6|conda install pytorch cuda91 -c pytorch|\n",
    "|conda,cudanone,python3.6|conda install pytorch-cpu -c pytorch|\n",
    "\n",
    "### 使用pip安装，不支持python2.7,cudanone就是CPU版本的\n",
    "|版本|命令|\n",
    "| :-: | :-: |\n",
    "pip,cudanone,python3.5|pip3 install http://download.pytorch.org/whl/cpu/torch-0.4.0-cp35-cp35m-win_amd64.whl\n",
    "pip,cuda8,python3.5|pip3 install http://download.pytorch.org/whl/cu80/torch-0.4.0-cp35-cp35m-win_amd64.whl\n",
    "pip,cuda9.0,python3.5|pip3 install http://download.pytorch.org/whl/cu90/torch-0.4.0-cp35-cp35m-win_amd64.whl\n",
    "pip,cuda9.1,python3.5|pip3 install http://download.pytorch.org/whl/cu91/torch-0.4.0-cp35-cp35m-win_amd64.whl\n",
    "pip,cudanone,python3.6|pip3 install http://download.pytorch.org/whl/cpu/torch-0.4.0-cp36-cp36m-win_amd64.whl\n",
    "pip,cuda8,python3.6|pip3 install http://download.pytorch.org/whl/cu80/torch-0.4.0-cp36-cp36m-win_amd64.whl\n",
    "pip,cuda9.0,python3.6|pip3 install http://download.pytorch.org/whl/cu90/torch-0.4.0-cp36-cp36m-win_amd64.whl\n",
    "pip,cuda9.1,python3.6|pip3 install http://download.pytorch.org/whl/cu91/torch-0.4.0-cp36-cp36m-win_amd64.whl"
   ]
  },
  {
   "cell_type": "code",
   "execution_count": 2,
   "metadata": {},
   "outputs": [],
   "source": [
    "from __future__ import print_function\n",
    "import torch"
   ]
  },
  {
   "cell_type": "code",
   "execution_count": 2,
   "metadata": {},
   "outputs": [
    {
     "name": "stdout",
     "output_type": "stream",
     "text": [
      "tensor([[ 0.0000e+00,  0.0000e+00,  2.1019e-44],\n",
      "        [ 0.0000e+00,  2.3669e+21,  5.4931e-43],\n",
      "        [ 3.1256e+22,  5.4931e-43,  0.0000e+00],\n",
      "        [ 0.0000e+00,  2.1019e-44,  0.0000e+00],\n",
      "        [ 2.5439e+21,  5.4931e-43,  3.1256e+22]])\n"
     ]
    }
   ],
   "source": [
    "# 构建一个5*3的未初始化的矩阵\n",
    "x = torch.empty(5,3)\n",
    "print(x)"
   ]
  },
  {
   "cell_type": "code",
   "execution_count": 3,
   "metadata": {},
   "outputs": [
    {
     "name": "stdout",
     "output_type": "stream",
     "text": [
      "tensor([[ 0.8088,  0.2708,  0.8338],\n",
      "        [ 0.4834,  0.9943,  0.7922],\n",
      "        [ 0.4358,  0.9478,  0.9259],\n",
      "        [ 0.4389,  0.9349,  0.8229],\n",
      "        [ 0.8208,  0.8066,  0.2267]])\n"
     ]
    }
   ],
   "source": [
    "# 构建一个随机初始化的矩阵\n",
    "y = torch.rand(5,3)\n",
    "print(y)"
   ]
  },
  {
   "cell_type": "code",
   "execution_count": 4,
   "metadata": {},
   "outputs": [
    {
     "name": "stdout",
     "output_type": "stream",
     "text": [
      "tensor([[ 0,  0,  0],\n",
      "        [ 0,  0,  0],\n",
      "        [ 0,  0,  0],\n",
      "        [ 0,  0,  0],\n",
      "        [ 0,  0,  0]])\n"
     ]
    }
   ],
   "source": [
    "# 构建一个元素类型为long且元素值为0的矩阵\n",
    "z = torch.zeros(5,3,dtype=torch.long)\n",
    "print(z)"
   ]
  },
  {
   "cell_type": "code",
   "execution_count": 5,
   "metadata": {},
   "outputs": [
    {
     "name": "stdout",
     "output_type": "stream",
     "text": [
      "tensor([[  3.3000,  12.0000],\n",
      "        [  3.0000,   5.0000]])\n"
     ]
    }
   ],
   "source": [
    "# 构建一个直接加载数据的矩阵\n",
    "t = torch.tensor([[3.3,12],[3,5]])\n",
    "print(t)"
   ]
  },
  {
   "cell_type": "code",
   "execution_count": 8,
   "metadata": {},
   "outputs": [
    {
     "name": "stdout",
     "output_type": "stream",
     "text": [
      "torch.Size([2, 2])\n"
     ]
    }
   ],
   "source": [
    "# 获得矩阵的size，torch.size实际是tuple，它支持tuple所有的运算。\n",
    "print(t.size())"
   ]
  },
  {
   "cell_type": "code",
   "execution_count": 10,
   "metadata": {},
   "outputs": [
    {
     "name": "stdout",
     "output_type": "stream",
     "text": [
      "tensor([[ 1.,  1.,  1.],\n",
      "        [ 1.,  1.,  1.],\n",
      "        [ 1.,  1.,  1.],\n",
      "        [ 1.,  1.,  1.],\n",
      "        [ 1.,  1.,  1.]], dtype=torch.float64)\n",
      "tensor([[ 0.5455,  1.5704,  0.6647],\n",
      "        [-1.5114,  0.8230, -1.3013],\n",
      "        [ 0.1714,  0.1366,  0.0819],\n",
      "        [ 0.6514,  0.0445, -0.6827],\n",
      "        [ 0.3872,  1.9244, -1.6920]])\n"
     ]
    }
   ],
   "source": [
    "# 基于现有的tensor来建立一个tensor。这个方法将复用源tensor的属性（如：dtype等），除非知道提供一个新的值\n",
    "x = x.new_ones(5, 3, dtype=torch.double)\n",
    "print(x)\n",
    "\n",
    "x = torch.randn_like(x, dtype=torch.float)\n",
    "print(x)"
   ]
  },
  {
   "cell_type": "markdown",
   "metadata": {},
   "source": [
    "## 运算\n",
    "\n",
    "### 加法："
   ]
  },
  {
   "cell_type": "code",
   "execution_count": 7,
   "metadata": {},
   "outputs": [
    {
     "name": "stdout",
     "output_type": "stream",
     "text": [
      "tensor([[ 8.0885e-01,  2.7076e-01,  8.3376e-01],\n",
      "        [ 4.8337e-01,  4.7339e+21,  7.9224e-01],\n",
      "        [ 6.2513e+22,  9.4777e-01,  9.2587e-01],\n",
      "        [ 4.3891e-01,  9.3494e-01,  8.2290e-01],\n",
      "        [ 5.0878e+21,  8.0661e-01,  6.2513e+22]])\n"
     ]
    }
   ],
   "source": [
    "# 语法1\n",
    "print(x+y)"
   ]
  },
  {
   "cell_type": "code",
   "execution_count": 6,
   "metadata": {},
   "outputs": [
    {
     "name": "stdout",
     "output_type": "stream",
     "text": [
      "tensor([[ 8.0885e-01,  2.7076e-01,  8.3376e-01],\n",
      "        [ 4.8337e-01,  4.7339e+21,  7.9224e-01],\n",
      "        [ 6.2513e+22,  9.4777e-01,  9.2587e-01],\n",
      "        [ 4.3891e-01,  9.3494e-01,  8.2290e-01],\n",
      "        [ 5.0878e+21,  8.0661e-01,  6.2513e+22]])\n"
     ]
    }
   ],
   "source": [
    "# 语法2\n",
    "print(torch.add(x,y))"
   ]
  },
  {
   "cell_type": "code",
   "execution_count": 4,
   "metadata": {},
   "outputs": [
    {
     "name": "stdout",
     "output_type": "stream",
     "text": [
      "tensor([[ 8.0885e-01,  2.7076e-01,  8.3376e-01],\n",
      "        [ 4.8337e-01,  2.3669e+21,  7.9224e-01],\n",
      "        [ 3.1256e+22,  9.4777e-01,  9.2587e-01],\n",
      "        [ 4.3891e-01,  9.3494e-01,  8.2290e-01],\n",
      "        [ 2.5439e+21,  8.0661e-01,  3.1256e+22]])\n"
     ]
    }
   ],
   "source": [
    "# 加法：作为输出参数\n",
    "result = torch.empty(5,3)\n",
    "torch.add(x,y,out=result)\n",
    "print(result)"
   ]
  },
  {
   "cell_type": "code",
   "execution_count": 8,
   "metadata": {},
   "outputs": [
    {
     "name": "stdout",
     "output_type": "stream",
     "text": [
      "tensor([[ 8.0885e-01,  2.7076e-01,  8.3376e-01],\n",
      "        [ 4.8337e-01,  4.7339e+21,  7.9224e-01],\n",
      "        [ 6.2513e+22,  9.4777e-01,  9.2587e-01],\n",
      "        [ 4.3891e-01,  9.3494e-01,  8.2290e-01],\n",
      "        [ 5.0878e+21,  8.0661e-01,  6.2513e+22]])\n"
     ]
    }
   ],
   "source": [
    "# 加法：内联\n",
    "y.add_(x)\n",
    "print(y)"
   ]
  },
  {
   "cell_type": "code",
   "execution_count": 9,
   "metadata": {},
   "outputs": [
    {
     "name": "stdout",
     "output_type": "stream",
     "text": [
      "tensor(1.00000e-44 *\n",
      "       [[ 0.0000,  0.0000,  2.1019]])\n"
     ]
    }
   ],
   "source": [
    "# 可以使用标准的类似Numpy的行列索引。\n",
    "print(x[:1])"
   ]
  },
  {
   "cell_type": "code",
   "execution_count": 10,
   "metadata": {},
   "outputs": [
    {
     "name": "stdout",
     "output_type": "stream",
     "text": [
      "torch.Size([4, 4]) torch.Size([16]) torch.Size([2, 8])\n"
     ]
    }
   ],
   "source": [
    "# 变换大小：如果你想改变调整大小/改造张量，你可以使用 torch.view:\n",
    "x = torch.randn(4,4)\n",
    "y = x.view(16)\n",
    "z = x.view(-1,8)\n",
    "print(x.size(),y.size(),z.size())"
   ]
  },
  {
   "cell_type": "markdown",
   "metadata": {},
   "source": [
    "### Tensor有包括 转置、索引、切片、数学操作、线性代数、随机数等100多种运算，具体详见[Torch](https://pytorch.org/docs/stable/torch.html#math-operations)"
   ]
  },
  {
   "cell_type": "code",
   "execution_count": 11,
   "metadata": {},
   "outputs": [
    {
     "name": "stdout",
     "output_type": "stream",
     "text": [
      "tensor([ 0.3630])\n",
      "0.36302807927131653\n"
     ]
    }
   ],
   "source": [
    "# 如果你有一个一个元素的tensor，可以使用 .item()获得其中的数字。\n",
    "x = torch.randn(1)\n",
    "print(x)\n",
    "print(x.item())"
   ]
  },
  {
   "cell_type": "markdown",
   "metadata": {},
   "source": [
    "## Numpy Bridge\n",
    "将Torch Tensor 转换成NumPy 数组，反之亦然。 Torch Tensor和NumPy 数组是共享内存，修改其中一个的值，那么另外一个的值也会改变。"
   ]
  },
  {
   "cell_type": "markdown",
   "metadata": {},
   "source": [
    "### 将Tensor转换成 NumPy Array"
   ]
  },
  {
   "cell_type": "code",
   "execution_count": 3,
   "metadata": {},
   "outputs": [
    {
     "name": "stdout",
     "output_type": "stream",
     "text": [
      "tensor([ 1.,  1.,  1.,  1.,  1.])\n"
     ]
    }
   ],
   "source": [
    "a = torch.ones(5)\n",
    "print(a)"
   ]
  },
  {
   "cell_type": "code",
   "execution_count": 4,
   "metadata": {},
   "outputs": [
    {
     "name": "stdout",
     "output_type": "stream",
     "text": [
      "[1. 1. 1. 1. 1.]\n"
     ]
    }
   ],
   "source": [
    "b= a.numpy()\n",
    "print(b)"
   ]
  },
  {
   "cell_type": "code",
   "execution_count": 5,
   "metadata": {},
   "outputs": [
    {
     "name": "stdout",
     "output_type": "stream",
     "text": [
      "tensor([ 2.,  2.,  2.,  2.,  2.])\n",
      "[2. 2. 2. 2. 2.]\n"
     ]
    }
   ],
   "source": [
    "# 观察numpy array的值会被改变。\n",
    "a.add_(1)\n",
    "print(a)\n",
    "print(b)"
   ]
  },
  {
   "cell_type": "markdown",
   "metadata": {},
   "source": [
    "### 将NumPy Array 转换成Tensor"
   ]
  },
  {
   "cell_type": "code",
   "execution_count": 6,
   "metadata": {},
   "outputs": [
    {
     "name": "stdout",
     "output_type": "stream",
     "text": [
      "[2. 2. 2. 2. 2.]\n",
      "tensor([ 2.,  2.,  2.,  2.,  2.], dtype=torch.float64)\n"
     ]
    }
   ],
   "source": [
    "# 观察numpy array如何自动转换成Torch Tensor\n",
    "import numpy as np\n",
    "a = np.ones(5)\n",
    "b = torch.from_numpy(a)\n",
    "np.add(a,1,out=a)\n",
    "print(a)\n",
    "print(b)"
   ]
  }
 ],
 "metadata": {
  "kernelspec": {
   "display_name": "Python 3",
   "language": "python",
   "name": "python3"
  },
  "language_info": {
   "codemirror_mode": {
    "name": "ipython",
    "version": 3
   },
   "file_extension": ".py",
   "mimetype": "text/x-python",
   "name": "python",
   "nbconvert_exporter": "python",
   "pygments_lexer": "ipython3",
   "version": "3.6.5"
  }
 },
 "nbformat": 4,
 "nbformat_minor": 2
}
